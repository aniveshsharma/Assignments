{
 "cells": [
  {
   "cell_type": "markdown",
   "id": "dc4b9792",
   "metadata": {},
   "source": [
    "# 1. Create an empty set. Prompt the user to enter a number between 1-99. Add the numbers in the set. Repeat 5 times."
   ]
  },
  {
   "cell_type": "code",
   "execution_count": 28,
   "id": "ca532c63",
   "metadata": {
    "scrolled": true
   },
   "outputs": [
    {
     "name": "stdout",
     "output_type": "stream",
     "text": [
      "You have Entered Five Elements {1, 2, 3, 4, 5}\n"
     ]
    }
   ],
   "source": [
    "empty_set = set()\n",
    "while True:\n",
    "    number=int(input(\"Enter the number between 1 to 99 : \"))\n",
    "    empty_set.add(number)\n",
    "    if len(empty_set)==5:\n",
    "        break\n",
    "print(f\"You have Entered Five Elements {empty_set}\")"
   ]
  },
  {
   "cell_type": "markdown",
   "id": "d239e961",
   "metadata": {},
   "source": [
    "# 2. Print the length of the set.\n"
   ]
  },
  {
   "cell_type": "code",
   "execution_count": 29,
   "id": "4bcce5f4",
   "metadata": {},
   "outputs": [
    {
     "name": "stdout",
     "output_type": "stream",
     "text": [
      "5 Elements in this Set.\n"
     ]
    }
   ],
   "source": [
    "print(f\"{len(empty_set)} Elements in this Set.\")"
   ]
  },
  {
   "cell_type": "markdown",
   "id": "e62b3827",
   "metadata": {},
   "source": [
    "# 3. If the length is less than 5 elements, prompt the user again to enter more numbers."
   ]
  },
  {
   "cell_type": "code",
   "execution_count": 31,
   "id": "e39b9c10",
   "metadata": {},
   "outputs": [
    {
     "name": "stdout",
     "output_type": "stream",
     "text": [
      "{1, 2, 3, 4, 5, 8}\n",
      "Elements Sucessfully added!\n"
     ]
    }
   ],
   "source": [
    "while True:\n",
    "    if len(empty_set)<=7:\n",
    "        new_num=int(input(\"Enter the number that you want to add :\"))\n",
    "        empty_set.add(new_num)\n",
    "        print(empty_set)\n",
    "        print(\"Elements Sucessfully added!\")\n",
    "        break"
   ]
  },
  {
   "cell_type": "markdown",
   "id": "03b1604f",
   "metadata": {},
   "source": [
    "# 4. Create another empty set and prompt the user to enter any number between 1-99. Add the numbers in the set. Repeat 5 times."
   ]
  },
  {
   "cell_type": "code",
   "execution_count": 32,
   "id": "f0d2f8cf",
   "metadata": {},
   "outputs": [
    {
     "name": "stdout",
     "output_type": "stream",
     "text": [
      "The Elements are : {1, 2, 4, 5, 8}\n"
     ]
    }
   ],
   "source": [
    "emp=set()\n",
    "while True:\n",
    "    num=int(input(\"Enter the numbers : \"))\n",
    "    emp.add(num)\n",
    "    if len(emp)==5:\n",
    "        break\n",
    "print(f\"The Elements are : {emp}\")"
   ]
  },
  {
   "cell_type": "markdown",
   "id": "f2ab739e",
   "metadata": {},
   "source": [
    "# 5. Check for the following:\n",
    "- a. Does both the sets have any numbers in common ?\n",
    "- b. Are both sets disjoint ?"
   ]
  },
  {
   "cell_type": "code",
   "execution_count": 33,
   "id": "6fe22632",
   "metadata": {},
   "outputs": [],
   "source": [
    "common = empty_set.intersection(emp)"
   ]
  },
  {
   "cell_type": "code",
   "execution_count": 34,
   "id": "3e12708b",
   "metadata": {},
   "outputs": [
    {
     "data": {
      "text/plain": [
       "{1, 2, 4, 5, 8}"
      ]
     },
     "execution_count": 34,
     "metadata": {},
     "output_type": "execute_result"
    }
   ],
   "source": [
    "common"
   ]
  },
  {
   "cell_type": "markdown",
   "id": "2648d220",
   "metadata": {},
   "source": [
    "- b. Are both sets disjoint ?"
   ]
  },
  {
   "cell_type": "code",
   "execution_count": 35,
   "id": "a296012e",
   "metadata": {},
   "outputs": [
    {
     "name": "stdout",
     "output_type": "stream",
     "text": [
      "False\n"
     ]
    }
   ],
   "source": [
    "print(empty_set.isdisjoint(emp))"
   ]
  },
  {
   "cell_type": "markdown",
   "id": "5ced581b",
   "metadata": {},
   "source": [
    "# 6. From the two sets, get the elements which are unique to each set (only present in either of the set).\n",
    "\n"
   ]
  },
  {
   "cell_type": "code",
   "execution_count": 36,
   "id": "0570deb1",
   "metadata": {},
   "outputs": [
    {
     "name": "stdout",
     "output_type": "stream",
     "text": [
      "{1, 2, 3, 7, 8, 9}\n"
     ]
    }
   ],
   "source": [
    "set1 = {1,2,3,4,5,6}\n",
    "set2 = {4,5,6,7,8,9}\n",
    "\n",
    "unique_element = set1.symmetric_difference(set2)\n",
    "\n",
    "print(unique_element)"
   ]
  },
  {
   "cell_type": "markdown",
   "id": "939b565a",
   "metadata": {},
   "source": [
    "# 7. Create a set containing names of any 10 animals."
   ]
  },
  {
   "cell_type": "code",
   "execution_count": 39,
   "id": "1aae9b6d",
   "metadata": {},
   "outputs": [],
   "source": [
    "animals = set()\n",
    "while len(animals)<=9:\n",
    "    animal_name = input(\"Enter the Animal Name: \")\n",
    "    animals.add(animal_name)"
   ]
  },
  {
   "cell_type": "code",
   "execution_count": 40,
   "id": "4b5de6c0",
   "metadata": {},
   "outputs": [
    {
     "name": "stdout",
     "output_type": "stream",
     "text": [
      "{'Buffalo', 'Cow', 'Cat', 'Dog', 'Dear', 'Elephant', 'Bear', 'iger', 'Fox', 'Wolf'}\n"
     ]
    }
   ],
   "source": [
    "print(animals)"
   ]
  },
  {
   "cell_type": "markdown",
   "id": "9dd24273",
   "metadata": {},
   "source": [
    "# 8. Create an empty set. Prompt the user to enter their favourite animal.\n"
   ]
  },
  {
   "cell_type": "code",
   "execution_count": 45,
   "id": "48857b76",
   "metadata": {},
   "outputs": [],
   "source": [
    "fav_animal = set()\n",
    "favanimal_name = input(\"Enter the Animal Name: \")\n",
    "fav_animal.add(favanimal_name)"
   ]
  },
  {
   "cell_type": "code",
   "execution_count": 46,
   "id": "2be68635",
   "metadata": {},
   "outputs": [
    {
     "data": {
      "text/plain": [
       "{'Wolf'}"
      ]
     },
     "execution_count": 46,
     "metadata": {},
     "output_type": "execute_result"
    }
   ],
   "source": [
    "fav_animal"
   ]
  },
  {
   "cell_type": "markdown",
   "id": "0e0c8a63",
   "metadata": {},
   "source": [
    "# 9. Does their favourite animal exists in the set created by you?"
   ]
  },
  {
   "cell_type": "code",
   "execution_count": 47,
   "id": "a5f1be54",
   "metadata": {},
   "outputs": [
    {
     "data": {
      "text/plain": [
       "{'Wolf'}"
      ]
     },
     "execution_count": 47,
     "metadata": {},
     "output_type": "execute_result"
    }
   ],
   "source": [
    "animals.intersection(fav_animal)"
   ]
  }
 ],
 "metadata": {
  "kernelspec": {
   "display_name": "Python 3 (ipykernel)",
   "language": "python",
   "name": "python3"
  },
  "language_info": {
   "codemirror_mode": {
    "name": "ipython",
    "version": 3
   },
   "file_extension": ".py",
   "mimetype": "text/x-python",
   "name": "python",
   "nbconvert_exporter": "python",
   "pygments_lexer": "ipython3",
   "version": "3.12.4"
  }
 },
 "nbformat": 4,
 "nbformat_minor": 5
}

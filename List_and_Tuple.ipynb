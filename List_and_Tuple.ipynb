{
 "cells": [
  {
   "cell_type": "markdown",
   "id": "3117a327-45f7-434f-aafd-229c57f19051",
   "metadata": {},
   "source": [
    "#        Python Assignment 2 (List and Tuples)"
   ]
  },
  {
   "cell_type": "code",
   "execution_count": null,
   "id": "171179e6-cb46-422e-b5ba-7f1248571f68",
   "metadata": {},
   "outputs": [],
   "source": []
  },
  {
   "cell_type": "markdown",
   "id": "c8d65ee4-1d1c-4e4e-bd31-37a3bb38babf",
   "metadata": {},
   "source": [
    "# 1. Create an empty list. Prompt the user to enter a city name in India. Append the city names in the list. Repeat until 5 cities. "
   ]
  },
  {
   "cell_type": "code",
   "execution_count": 1,
   "id": "ff509b68-181b-43d3-b02f-8f1df34e5d46",
   "metadata": {},
   "outputs": [
    {
     "name": "stdin",
     "output_type": "stream",
     "text": [
      "Enter City Name :  Ballia\n",
      "Enter City Name :  Gorakhpur\n",
      "Enter City Name :  Sivan\n",
      "Enter City Name :  Buxar\n",
      "Enter City Name :  Sagarpur\n"
     ]
    },
    {
     "name": "stdout",
     "output_type": "stream",
     "text": [
      "['Ballia', 'Gorakhpur', 'Sivan', 'Buxar', 'Sagarpur']\n"
     ]
    }
   ],
   "source": [
    "cities = []\n",
    "\n",
    "for i in range(5):\n",
    "    city = input(\"Enter City Name : \")\n",
    "    cities.append(city)\n",
    "print(cities)"
   ]
  },
  {
   "cell_type": "markdown",
   "id": "636a1f8e-9d1e-4f74-81e6-2684f8aac6b9",
   "metadata": {},
   "source": [
    "# 2. Print the index of all the cities"
   ]
  },
  {
   "cell_type": "code",
   "execution_count": 8,
   "id": "6c26337b-7498-4a58-9020-00c99d314f90",
   "metadata": {},
   "outputs": [
    {
     "name": "stdout",
     "output_type": "stream",
     "text": [
      "Index : 0 , City : Ballia\n",
      "Index : 1 , City : Gorakhpur\n",
      "Index : 2 , City : Sivan\n",
      "Index : 3 , City : Buxar\n",
      "Index : 4 , City : Sagarpur\n"
     ]
    }
   ],
   "source": [
    "for index, city in enumerate(cities):\n",
    "    print(f\"Index : {index} , City : {city}\")"
   ]
  },
  {
   "cell_type": "markdown",
   "id": "50a4d181-a5fa-4c2f-952f-de22e290303c",
   "metadata": {},
   "source": [
    "# 3  Swap the first and last cities"
   ]
  },
  {
   "cell_type": "code",
   "execution_count": 9,
   "id": "c6cc4967-a2fd-4de5-be01-323be13dc25d",
   "metadata": {},
   "outputs": [
    {
     "data": {
      "text/plain": [
       "['Ballia', 'Gorakhpur', 'Sivan', 'Buxar', 'Sagarpur']"
      ]
     },
     "execution_count": 9,
     "metadata": {},
     "output_type": "execute_result"
    }
   ],
   "source": [
    "cities"
   ]
  },
  {
   "cell_type": "code",
   "execution_count": 10,
   "id": "3f0a2e34-099c-4826-9ac7-66563fbf4a67",
   "metadata": {},
   "outputs": [
    {
     "name": "stdout",
     "output_type": "stream",
     "text": [
      "['Sagarpur', 'Gorakhpur', 'Sivan', 'Buxar', 'Ballia']\n"
     ]
    }
   ],
   "source": [
    "cities [0], cities[-1] = cities[-1], cities[0]\n",
    "print(cities)"
   ]
  },
  {
   "cell_type": "markdown",
   "id": "4099b0a5-6abc-4b55-b3cc-94db1ccd4e9d",
   "metadata": {},
   "source": [
    "# 4. Change the cities in the third and fourth position to ‘Berlin’ and ‘Rome’.\n"
   ]
  },
  {
   "cell_type": "code",
   "execution_count": 11,
   "id": "48ae6f9b-10f0-460f-bf19-0c0b8bcbe000",
   "metadata": {},
   "outputs": [
    {
     "data": {
      "text/plain": [
       "['Sagarpur', 'Gorakhpur', 'Sivan', 'Buxar', 'Ballia']"
      ]
     },
     "execution_count": 11,
     "metadata": {},
     "output_type": "execute_result"
    }
   ],
   "source": [
    "cities"
   ]
  },
  {
   "cell_type": "code",
   "execution_count": 13,
   "id": "0b48e4dd-84ba-4f9e-9e44-b2155e4f0bde",
   "metadata": {},
   "outputs": [],
   "source": [
    "cities[2],cities[3] = [\"Berlin\", \"Rome\"]"
   ]
  },
  {
   "cell_type": "code",
   "execution_count": 14,
   "id": "dc8e9960-771d-4055-af10-d4f3cbead2b5",
   "metadata": {},
   "outputs": [
    {
     "data": {
      "text/plain": [
       "['Sagarpur', 'Gorakhpur', 'Berlin', 'Rome', 'Ballia']"
      ]
     },
     "execution_count": 14,
     "metadata": {},
     "output_type": "execute_result"
    }
   ],
   "source": [
    "cities"
   ]
  },
  {
   "cell_type": "markdown",
   "id": "3635ab82-4ce3-47e9-a9ac-425b829a1e60",
   "metadata": {},
   "source": [
    "# 5. Slice the names Berlin and Rome and store in a new list for international cities."
   ]
  },
  {
   "cell_type": "code",
   "execution_count": 15,
   "id": "03dbb291-ec26-431b-9639-4757bea02393",
   "metadata": {},
   "outputs": [],
   "source": [
    "internaional_cities = [cities[2],cities[3]]"
   ]
  },
  {
   "cell_type": "code",
   "execution_count": 16,
   "id": "0d0ee027-9955-46fc-8951-b4c2f1e8f2ae",
   "metadata": {},
   "outputs": [
    {
     "data": {
      "text/plain": [
       "['Berlin', 'Rome']"
      ]
     },
     "execution_count": 16,
     "metadata": {},
     "output_type": "execute_result"
    }
   ],
   "source": [
    "internaional_cities"
   ]
  },
  {
   "cell_type": "code",
   "execution_count": 17,
   "id": "bd970fb7-16cb-448f-8fbd-7ae32cfe4109",
   "metadata": {},
   "outputs": [
    {
     "name": "stdin",
     "output_type": "stream",
     "text": [
      "Enter the name of International Cities :  New York\n",
      "Enter the name of International Cities :  Los Angeles\n",
      "Enter the name of International Cities :  Chicago\n"
     ]
    }
   ],
   "source": [
    "for i in range(3):\n",
    "    inter_cties = input(\"Enter the name of International Cities : \")\n",
    "    internaional_cities.append(inter_cties)"
   ]
  },
  {
   "cell_type": "code",
   "execution_count": 18,
   "id": "d17510b2-3817-45a0-ad33-209ece281c6a",
   "metadata": {},
   "outputs": [
    {
     "data": {
      "text/plain": [
       "['Berlin', 'Rome', 'New York', 'Los Angeles', 'Chicago']"
      ]
     },
     "execution_count": 18,
     "metadata": {},
     "output_type": "execute_result"
    }
   ],
   "source": [
    "internaional_cities"
   ]
  },
  {
   "cell_type": "markdown",
   "id": "68aa0352-b1fb-4601-ac4f-d2aedc9a6e2b",
   "metadata": {},
   "source": [
    "# 7. Print the length of both the lists.\n"
   ]
  },
  {
   "cell_type": "code",
   "execution_count": 22,
   "id": "561ac1c1-93f1-4761-9f69-01f425cd1bea",
   "metadata": {},
   "outputs": [
    {
     "data": {
      "text/plain": [
       "(5, 5)"
      ]
     },
     "execution_count": 22,
     "metadata": {},
     "output_type": "execute_result"
    }
   ],
   "source": [
    "len(cities),  len(internaional_cities)"
   ]
  },
  {
   "cell_type": "markdown",
   "id": "1021df95-1330-4e94-88ab-8ffa29c24156",
   "metadata": {},
   "source": [
    "# 8. Combine both the list with International cities first then Reverse the list. The final list should have Indian cities first then International cities."
   ]
  },
  {
   "cell_type": "code",
   "execution_count": 25,
   "id": "e4c9c96c-c4bb-4711-9c32-d43ee9f8b27f",
   "metadata": {},
   "outputs": [],
   "source": [
    "merged_list = internaional_cities + cities"
   ]
  },
  {
   "cell_type": "code",
   "execution_count": 27,
   "id": "d5f5b953-0ab8-4c27-9eb0-a42c0f764209",
   "metadata": {},
   "outputs": [
    {
     "name": "stdout",
     "output_type": "stream",
     "text": [
      "['Berlin', 'Rome', 'New York', 'Los Angeles', 'Chicago', 'Sagarpur', 'Gorakhpur', 'Berlin', 'Rome', 'Ballia']\n"
     ]
    }
   ],
   "source": [
    "print(merged_list)"
   ]
  },
  {
   "cell_type": "code",
   "execution_count": 28,
   "id": "46361b91-0805-407f-89ee-a16b67808033",
   "metadata": {},
   "outputs": [],
   "source": [
    "merged_list.reverse()"
   ]
  },
  {
   "cell_type": "code",
   "execution_count": 30,
   "id": "e624ab40-b7b8-4173-bc62-1704a700db01",
   "metadata": {},
   "outputs": [
    {
     "name": "stdout",
     "output_type": "stream",
     "text": [
      "['Ballia', 'Rome', 'Berlin', 'Gorakhpur', 'Sagarpur', 'Chicago', 'Los Angeles', 'New York', 'Rome', 'Berlin']\n"
     ]
    }
   ],
   "source": [
    "print(merged_list)"
   ]
  },
  {
   "cell_type": "markdown",
   "id": "3822a491-2ca4-4658-8481-a085ff5e1db0",
   "metadata": {},
   "source": [
    "# 9. Remove the city at the third position."
   ]
  },
  {
   "cell_type": "code",
   "execution_count": 32,
   "id": "4b01798c-37f9-4e44-adfd-fa291a2713a1",
   "metadata": {},
   "outputs": [],
   "source": [
    "merged_list.remove(merged_list[2])"
   ]
  },
  {
   "cell_type": "code",
   "execution_count": 35,
   "id": "b74f7c46-cd26-4bbb-b366-979004f22a02",
   "metadata": {},
   "outputs": [
    {
     "name": "stdout",
     "output_type": "stream",
     "text": [
      "['Ballia', 'Rome', 'Gorakhpur', 'Sagarpur', 'Chicago', 'Los Angeles', 'New York', 'Rome', 'Berlin']\n"
     ]
    }
   ],
   "source": [
    "print(merged_list)"
   ]
  },
  {
   "cell_type": "markdown",
   "id": "aba811c8-1926-432b-b96c-372de913eda1",
   "metadata": {},
   "source": [
    "# 10. Below is given a list of words. Combine them to for a String sentence in upper case:\n",
    "['Delhi', 'is', 'a', 'bustling', 'metropolis', 'that', 'seamlessly', 'blends', 'a', 'rich', 'historical', 'past', 'with',\n",
    "'the', 'modern', 'world.', 'It', 'has', 'a', 'deep-rooted', 'history', 'dating', 'back', 'thousands', 'of', 'years,',\n",
    "'making', 'it', 'one', 'of', 'the', 'oldest', 'continuously', 'inhabited', 'cities', 'in', 'the', 'world.']\n"
   ]
  },
  {
   "cell_type": "code",
   "execution_count": 36,
   "id": "639b12e5-5994-488c-a6ce-6f1ca91937b1",
   "metadata": {},
   "outputs": [],
   "source": [
    "para = ['Delhi', 'is', 'a', 'bustling', 'metropolis', 'that', 'seamlessly', 'blends', 'a', 'rich', 'historical', 'past', 'with', 'the', 'modern', 'world.', 'It', 'has', 'a', 'deep-rooted', 'history', 'dating', 'back', 'thousands', 'of', 'years,', 'making', 'it', 'one', 'of', 'the', 'oldest', 'continuously', 'inhabited', 'cities', 'in', 'the', 'world.']"
   ]
  },
  {
   "cell_type": "code",
   "execution_count": 40,
   "id": "f4cfa842-373d-498b-a635-fcb79ee0276e",
   "metadata": {},
   "outputs": [],
   "source": [
    "combined_string = \" \".join(para).upper()    # using space as a seperator"
   ]
  },
  {
   "cell_type": "code",
   "execution_count": 41,
   "id": "e678b542-cc6a-468e-a0b6-3eaf468cf448",
   "metadata": {},
   "outputs": [
    {
     "data": {
      "text/plain": [
       "'DELHI IS A BUSTLING METROPOLIS THAT SEAMLESSLY BLENDS A RICH HISTORICAL PAST WITH THE MODERN WORLD. IT HAS A DEEP-ROOTED HISTORY DATING BACK THOUSANDS OF YEARS, MAKING IT ONE OF THE OLDEST CONTINUOUSLY INHABITED CITIES IN THE WORLD.'"
      ]
     },
     "execution_count": 41,
     "metadata": {},
     "output_type": "execute_result"
    }
   ],
   "source": [
    "combined_string"
   ]
  },
  {
   "cell_type": "code",
   "execution_count": null,
   "id": "32a9dbbb-29b2-4db0-97d6-13783c3b3fb6",
   "metadata": {},
   "outputs": [],
   "source": []
  }
 ],
 "metadata": {
  "kernelspec": {
   "display_name": "Python 3 (ipykernel)",
   "language": "python",
   "name": "python3"
  },
  "language_info": {
   "codemirror_mode": {
    "name": "ipython",
    "version": 3
   },
   "file_extension": ".py",
   "mimetype": "text/x-python",
   "name": "python",
   "nbconvert_exporter": "python",
   "pygments_lexer": "ipython3",
   "version": "3.12.4"
  }
 },
 "nbformat": 4,
 "nbformat_minor": 5
}

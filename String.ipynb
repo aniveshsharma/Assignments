{
 "cells": [
  {
   "cell_type": "markdown",
   "id": "4c87566a",
   "metadata": {},
   "source": [
    "# 1 Prompt the user to give their First Name, Last Name, email id and their course in which they are enrolled, and store them in diffrent variables"
   ]
  },
  {
   "cell_type": "code",
   "execution_count": 2,
   "id": "53619ccf",
   "metadata": {},
   "outputs": [
    {
     "name": "stdout",
     "output_type": "stream",
     "text": [
      "First Name : Anivesh\n",
      "Last Name : Sharma\n",
      "Email_id : aniveshsharma2202@gmail.com\n",
      "Course : Data Analyst\n"
     ]
    }
   ],
   "source": [
    "First_Name = input(\"Enter your First Name : \")\n",
    "Last_Name = input(\"Enter your Last Name : \")\n",
    "Email_id = input(\"Enter your Email_id : \")\n",
    "Course = input(\"Enter your Selected Course : \")\n",
    "print(f\"First Name : {First_Name}\")\n",
    "print(f\"Last Name : {Last_Name}\")\n",
    "print(f\"Email_id : {Email_id}\")\n",
    "print(f\"Course : {Course}\")"
   ]
  },
  {
   "cell_type": "markdown",
   "id": "37a8e53f",
   "metadata": {},
   "source": [
    "# 2 Print their First and Last name together in title case,email in lower case and course capitalized case in separate lines. (Hint: Use format strings or f strings)"
   ]
  },
  {
   "cell_type": "code",
   "execution_count": 3,
   "id": "72f787ce",
   "metadata": {},
   "outputs": [
    {
     "name": "stdout",
     "output_type": "stream",
     "text": [
      "First and Last name together : Anivesh Sharma\n",
      "Full Name in title Case : Anivesh Sharma\n",
      "Email in Lower Case : aniveshsharma2202@gmail.com\n",
      "Course in Captalized Case : Data analyst\n"
     ]
    }
   ],
   "source": [
    "full_name = First_Name +\" \"+ Last_Name\n",
    "title= full_name.title()\n",
    "mail = Email_id.lower()\n",
    "subject= Course.capitalize()\n",
    "print(f\"First and Last name together : {full_name}\")\n",
    "print(f\"Full Name in title Case : {title}\")\n",
    "print(f\"Email in Lower Case : {mail}\")\n",
    "print(f\"Course in Captalized Case : {subject}\")"
   ]
  },
  {
   "cell_type": "markdown",
   "id": "8fdf1995",
   "metadata": {},
   "source": [
    "# 3 Prompt the user to enter their full name with title (Mr.,Mrs,Ms etc) and print title with capitalized and the name without the title,capitalized, in separate lines.\n"
   ]
  },
  {
   "cell_type": "code",
   "execution_count": null,
   "id": "7cc1f93d",
   "metadata": {},
   "outputs": [],
   "source": []
  },
  {
   "cell_type": "code",
   "execution_count": null,
   "id": "73d76bb5",
   "metadata": {},
   "outputs": [],
   "source": []
  },
  {
   "cell_type": "markdown",
   "id": "aa3aeb13",
   "metadata": {},
   "source": [
    "# 4. Below is a text extract. Each paragraph is separated by a new line (\\n). Separate the paragraphs.\n",
    "\n",
    "There was an old owl who lived in an oak tree. Every day, he observed incidents that occurred around\n",
    "him.\\nYesterday, he watched as a young boy helped an old man carry a heavy basket. Today, he saw a\n",
    "young girl shouting at her mother. The more he saw, the less he spoke.\\nAs the days went on, he spoke\n",
    "less but heard more. The old owl heard people talking and telling stories.\\nHe heard a woman saying\n",
    "an elephant jumped over a fence. He heard a man saying that he had never made a mistake.\\nThe old\n",
    "owl had seen and heard what happened to people. There were some who became better, some who\n",
    "became worse. But the old owl in the tree had become wiser, each and every day."
   ]
  },
  {
   "cell_type": "code",
   "execution_count": 9,
   "id": "86e88e89",
   "metadata": {},
   "outputs": [
    {
     "name": "stdout",
     "output_type": "stream",
     "text": [
      "There was an old owl who lived in an oak tree. Every day, he observed incidents that occurred around him.\n",
      "Yesterday, he watched as a young boy helped an old man carry a heavy basket. Today, he saw a young girl shouting at her mother. The more he saw, the less he spoke.\n",
      "As the days went on, he spoke less but heard more. The old owl heard people talking and telling stories.\n",
      "He heard a woman saying an elephant jumped over a fence. He heard a man saying that he had never made a mistake.\n",
      "The old owl had seen and heard what happened to people. There were some who became better, some who became worse. But the old owl in the tree had become wiser, each and every day.\n"
     ]
    }
   ],
   "source": [
    "print(\"There was an old owl who lived in an oak tree. Every day, he observed incidents that occurred around him.\\nYesterday, he watched as a young boy helped an old man carry a heavy basket. Today, he saw a young girl shouting at her mother. The more he saw, the less he spoke.\\nAs the days went on, he spoke less but heard more. The old owl heard people talking and telling stories.\\nHe heard a woman saying an elephant jumped over a fence. He heard a man saying that he had never made a mistake.\\nThe old owl had seen and heard what happened to people. There were some who became better, some who became worse. But the old owl in the tree had become wiser, each and every day.\")"
   ]
  },
  {
   "cell_type": "code",
   "execution_count": null,
   "id": "62f9df22",
   "metadata": {},
   "outputs": [],
   "source": []
  },
  {
   "cell_type": "markdown",
   "id": "0853d412",
   "metadata": {},
   "source": [
    "# 5 Below is a text extract. The cases are jumbled. Convert the text cases into title form . Then each paragraph is separated by a new line (\\n). Separate the paragraphs.\n",
    "oNcE upoN A tIMe, iN a mYsTeRIouS fOrEst, tHEre wAS aN aDvEnTuRoUS yOUnG gIRL\n",
    "nAMeD aLICe. ShE wAS aLwAyS cURiOuS aBOuT eVErYtHInG aNd cOULd nEvEr rESiST\n",
    "eXPlORiNg nEW pLaCeS.\\nOnE dAy, wHilE wANdErInG tHroUGh tHE fOrEsT, aLICe cAMe\n",
    "aCRoSS a tInY dOoR tHaT wAs hIdDEn bEHinD sOmE bUShES. sHE cOuLdN't rESisT hER\n",
    "cUriOSItY aNd dEcIDeD tO oPeN tHe dOOr. tO hER aMaZEmeNT, tHe dOoR lEd tO a\n",
    "mAGiCaL wORlD!\\nThE nEw wOrLd wAs fIlLeD wItH bRiGhT cOlOrS aNd sTRaNge\n",
    "cReAtuReS. aLiCe mEt a tALkiNg rAbBiT wHo cArRiEd a pOcKet wATcH aNd wAs aLwAyS iN a\n",
    "hURrY. sHE fOLLoWEd tHe rAbBiT aNd eMbArKEd oN a sErIeS oF uNfORsEeN\n",
    "aDvEnTuReS.\\nIn hER jOuRnEy, aLiCe eNcOUnteReD a cHEsHirE cAT, wHo gRAcEd hER\n",
    "wITh a mYsTErIoUs sMiLe aND sPoKe iN rIDDles. sHe aLsO hELpEd a gRoUP oF tEa cUps aNd\n",
    "tEa pOtS hAVe a tEa pARtY, wHicH wAs qUiTe tHE uNusUal sIgHt tO sEE! "
   ]
  },
  {
   "cell_type": "code",
   "execution_count": 7,
   "id": "40600176",
   "metadata": {},
   "outputs": [],
   "source": [
    "text = \"\"\"oNcE upoN A tIMe, iN a mYsTeRIouS fOrEst, tHEre wAS aN aDvEnTuRoUS yOUnG gIRL\n",
    "nAMeD aLICe. ShE wAS aLwAyS cURiOuS aBOuT eVErYtHInG aNd cOULd nEvEr rESiST\n",
    "eXPlORiNg nEW pLaCeS.\\nOnE dAy, wHilE wANdErInG tHroUGh tHE fOrEsT, aLICe cAMe\n",
    "aCRoSS a tInY dOoR tHaT wAs hIdDEn bEHinD sOmE bUShES. sHE cOuLdN't rESisT hER\n",
    "cUriOSItY aNd dEcIDeD tO oPeN tHe dOOr. tO hER aMaZEmeNT, tHe dOoR lEd tO a\n",
    "mAGiCaL wORlD!\\nThE nEw wOrLd wAs fIlLeD wItH bRiGhT cOlOrS aNd sTRaNge\n",
    "cReAtuReS. aLiCe mEt a tALkiNg rAbBiT wHo cArRiEd a pOcKet wATcH aNd wAs aLwAyS iN a\n",
    "hURrY. sHE fOLLoWEd tHe rAbBiT aNd eMbArKEd oN a sErIeS oF uNfORsEeN\n",
    "aDvEnTuReS.\\nIn hER jOuRnEy, aLiCe eNcOUnteReD a cHEsHirE cAT, wHo gRAcEd hER\n",
    "wITh a mYsTErIoUs sMiLe aND sPoKe iN rIDDles. sHe aLsO hELpEd a gRoUP oF tEa cUps aNd\n",
    "tEa pOtS hAVe a tEa pARtY, wHicH wAs qUiTe tHE uNusUal sIgHt tO sEE! \"\"\""
   ]
  },
  {
   "cell_type": "code",
   "execution_count": 9,
   "id": "0457d893",
   "metadata": {},
   "outputs": [
    {
     "name": "stdout",
     "output_type": "stream",
     "text": [
      "Once Upon A Time, In A Mysterious Forest, There Was An Adventurous Young Girl\n",
      "Named Alice. She Was Always Curious About Everything And Could Never Resist\n",
      "Exploring New Places.\n",
      "One Day, While Wandering Through The Forest, Alice Came\n",
      "Across A Tiny Door That Was Hidden Behind Some Bushes. She Couldn'T Resist Her\n",
      "Curiosity And Decided To Open The Door. To Her Amazement, The Door Led To A\n",
      "Magical World!\n",
      "The New World Was Filled With Bright Colors And Strange\n",
      "Creatures. Alice Met A Talking Rabbit Who Carried A Pocket Watch And Was Always In A\n",
      "Hurry. She Followed The Rabbit And Embarked On A Series Of Unforseen\n",
      "Adventures.\n",
      "In Her Journey, Alice Encountered A Cheshire Cat, Who Graced Her\n",
      "With A Mysterious Smile And Spoke In Riddles. She Also Helped A Group Of Tea Cups And\n",
      "Tea Pots Have A Tea Party, Which Was Quite The Unusual Sight To See! \n"
     ]
    }
   ],
   "source": [
    "print(text.title())"
   ]
  },
  {
   "cell_type": "code",
   "execution_count": null,
   "id": "971144c4",
   "metadata": {},
   "outputs": [],
   "source": []
  },
  {
   "cell_type": "markdown",
   "id": "79e5928f",
   "metadata": {},
   "source": [
    "## 6. Below is an extract about BMW’s presence in India. Count the word “Indian” in the text:\n",
    "BMW, a renowned German automotive manufacturer, has left an indelible mark on the Indian\n",
    "automotive landscape. With its striking designs and innovative engineering, BMW has become a\n",
    "symbol of luxury and performance in the Indian market. Indian consumers have wholeheartedly\n",
    "embraced the brand, appreciating its cutting-edge technology, comfort, and style. The BMW brand\n",
    "exudes an air of exclusivity and sophistication, appealing to the discerning Indian clientele who seek\n",
    "nothing but the best. Over the years, BMW has tailored its offerings to cater to the diverse tastes and\n",
    "preferences of the Indian populace, solidifying its position as a leading luxury carmaker in the country.\n",
    "Whether navigating bustling city streets or cruising along picturesque highways, the presence of a\n",
    "BMW on Indian roads commands attention and admiration, reflecting the brand's strong allure and\n",
    "timeless appeal to the Indian automotive enthusiast."
   ]
  },
  {
   "cell_type": "code",
   "execution_count": 1,
   "id": "19df155f",
   "metadata": {},
   "outputs": [],
   "source": [
    "text = \"\"\"BMW, a renowned German automotive manufacturer, has left an indelible mark on the Indian\n",
    "automotive landscape. With its striking designs and innovative engineering, BMW has become a\n",
    "symbol of luxury and performance in the Indian market. Indian consumers have wholeheartedly\n",
    "embraced the brand, appreciating its cutting-edge technology, comfort, and style. The BMW brand\n",
    "exudes an air of exclusivity and sophistication, appealing to the discerning Indian clientele who seek\n",
    "nothing but the best. Over the years, BMW has tailored its offerings to cater to the diverse tastes and\n",
    "preferences of the Indian populace, solidifying its position as a leading luxury carmaker in the country.\n",
    "Whether navigating bustling city streets or cruising along picturesque highways, the presence of a\n",
    "BMW on Indian roads commands attention and admiration, reflecting the brand's strong allure and\n",
    "timeless appeal to the Indian automotive enthusiast.\"\"\""
   ]
  },
  {
   "cell_type": "code",
   "execution_count": 6,
   "id": "d124dce2",
   "metadata": {},
   "outputs": [
    {
     "name": "stdout",
     "output_type": "stream",
     "text": [
      "Count of word Indian in the text is 7\n"
     ]
    }
   ],
   "source": [
    "num = 0\n",
    "text_from=text.split()\n",
    "for i in text_from:\n",
    "    if i == \"Indian\":\n",
    "        num=num+1\n",
    "\n",
    "print(f\"Count of word Indian in the text is {num}\")"
   ]
  },
  {
   "cell_type": "code",
   "execution_count": null,
   "id": "bfc81d5d",
   "metadata": {},
   "outputs": [],
   "source": []
  }
 ],
 "metadata": {
  "kernelspec": {
   "display_name": "Python 3 (ipykernel)",
   "language": "python",
   "name": "python3"
  },
  "language_info": {
   "codemirror_mode": {
    "name": "ipython",
    "version": 3
   },
   "file_extension": ".py",
   "mimetype": "text/x-python",
   "name": "python",
   "nbconvert_exporter": "python",
   "pygments_lexer": "ipython3",
   "version": "3.12.4"
  }
 },
 "nbformat": 4,
 "nbformat_minor": 5
}

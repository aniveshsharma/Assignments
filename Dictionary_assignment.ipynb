{
 "cells": [
  {
   "cell_type": "code",
   "execution_count": 2,
   "id": "81872955-fb2b-4a38-8cfb-0a821cb4d826",
   "metadata": {},
   "outputs": [],
   "source": [
    "book = {}"
   ]
  },
  {
   "cell_type": "code",
   "execution_count": 3,
   "id": "d77c2498-8604-4a87-b425-190b1dd6e9cd",
   "metadata": {},
   "outputs": [],
   "source": [
    "def info_book():\n",
    "    \"\"\"Creates a phone book with names as key and a list of dictionaries as values\"\"\"\n",
    "    \n",
    "    while True:\n",
    "        names = input('Please enter the First and Last name separated by space (or type \"exit\" to quit): ')\n",
    "        if names.lower() == 'exit':\n",
    "            break\n",
    "            \n",
    "        number = input('Please enter the phone number: ')\n",
    "        address = input('Please enter your location: ')\n",
    "        full_name = \" \".join(names.split())\n",
    "        # Check if the full name exists in the phone book\n",
    "        if full_name in book:\n",
    "            # If the name exists , append the new entry to the existing list of entries\n",
    "            book[full_name].append({ 'address' : address, 'number' : number })\n",
    "        else :\n",
    "            # If the name does not exist, create a new entry with a list containing the dictionary\n",
    "            book[full_name] = [{ 'address' : address, 'number' : number }]\n",
    "    \n",
    "    return book"
   ]
  },
  {
   "cell_type": "code",
   "execution_count": 4,
   "id": "cc267039",
   "metadata": {},
   "outputs": [
    {
     "data": {
      "text/plain": [
       "{'Anivesh Sharma': [{'address': 'New Delhi', 'number': '6205561988'}],\n",
       " 'Alex Sharma': [{'address': 'Ballia', 'number': '8400236709'}],\n",
       " 'Eva Sharma': [{'address': 'Sagarpur', 'number': '7237858169'}],\n",
       " 'Anshu Sharma': [{'address': 'Raghunathpur', 'number': '7739927736'}]}"
      ]
     },
     "execution_count": 4,
     "metadata": {},
     "output_type": "execute_result"
    }
   ],
   "source": [
    "# calling the function. Use the following function to use whenever required.\n",
    "\n",
    "info_book()"
   ]
  },
  {
   "cell_type": "markdown",
   "id": "699b599a",
   "metadata": {},
   "source": [
    "# 1. Print all the names in the above dictionary"
   ]
  },
  {
   "cell_type": "code",
   "execution_count": 9,
   "id": "051c5784",
   "metadata": {},
   "outputs": [
    {
     "name": "stdout",
     "output_type": "stream",
     "text": [
      "dict_keys(['Anivesh Sharma', 'Alex Sharma', 'Eva Sharma', 'Anshu Sharma'])\n"
     ]
    }
   ],
   "source": [
    "\n",
    "print(book.keys())"
   ]
  },
  {
   "cell_type": "markdown",
   "id": "4f872688",
   "metadata": {},
   "source": [
    "# 2. Print all the values associated with the names"
   ]
  },
  {
   "cell_type": "code",
   "execution_count": 10,
   "id": "766475a3",
   "metadata": {},
   "outputs": [
    {
     "data": {
      "text/plain": [
       "{'Anivesh Sharma': [{'address': 'New Delhi', 'number': '6205561988'}],\n",
       " 'Alex Sharma': [{'address': 'Ballia', 'number': '8400236709'}],\n",
       " 'Eva Sharma': [{'address': 'Sagarpur', 'number': '7237858169'}],\n",
       " 'Anshu Sharma': [{'address': 'Raghunathpur', 'number': '7739927736'}]}"
      ]
     },
     "execution_count": 10,
     "metadata": {},
     "output_type": "execute_result"
    }
   ],
   "source": [
    "book"
   ]
  },
  {
   "cell_type": "code",
   "execution_count": null,
   "id": "5c49869e",
   "metadata": {},
   "outputs": [],
   "source": []
  },
  {
   "cell_type": "markdown",
   "id": "739cace2",
   "metadata": {},
   "source": [
    "# 3. You want to enter one more Name but the number and address are not known yet. Add the new name with no values in the above dictionary"
   ]
  },
  {
   "cell_type": "code",
   "execution_count": 11,
   "id": "8c0bac76",
   "metadata": {},
   "outputs": [
    {
     "data": {
      "text/plain": [
       "{'Anivesh Sharma': [{'address': 'New Delhi', 'number': '6205561988'}],\n",
       " 'Alex Sharma': [{'address': 'Ballia', 'number': '8400236709'}],\n",
       " 'Eva Sharma': [{'address': 'Sagarpur', 'number': '7237858169'}],\n",
       " 'Anshu Sharma': [{'address': 'Raghunathpur', 'number': '7739927736'}],\n",
       " 'Rohit Sharma': [{'address': '', 'number': ''}]}"
      ]
     },
     "execution_count": 11,
     "metadata": {},
     "output_type": "execute_result"
    }
   ],
   "source": [
    "info_book()"
   ]
  },
  {
   "cell_type": "code",
   "execution_count": 12,
   "id": "68daa142",
   "metadata": {},
   "outputs": [
    {
     "data": {
      "text/plain": [
       "{'Anivesh Sharma': [{'address': 'New Delhi', 'number': '6205561988'}],\n",
       " 'Alex Sharma': [{'address': 'Ballia', 'number': '8400236709'}],\n",
       " 'Eva Sharma': [{'address': 'Sagarpur', 'number': '7237858169'}],\n",
       " 'Anshu Sharma': [{'address': 'Raghunathpur', 'number': '7739927736'}],\n",
       " 'Rohit Sharma': [{'address': '', 'number': ''}]}"
      ]
     },
     "execution_count": 12,
     "metadata": {},
     "output_type": "execute_result"
    }
   ],
   "source": [
    "book"
   ]
  },
  {
   "cell_type": "markdown",
   "id": "513ca2aa",
   "metadata": {},
   "source": [
    "## 4. Add a candidate with the name ‘Matt Daemon’ whose number is 555010898 and lives in Pune to the book dictionary."
   ]
  },
  {
   "cell_type": "code",
   "execution_count": 13,
   "id": "19705b88",
   "metadata": {},
   "outputs": [
    {
     "data": {
      "text/plain": [
       "{'Anivesh Sharma': [{'address': 'New Delhi', 'number': '6205561988'}],\n",
       " 'Alex Sharma': [{'address': 'Ballia', 'number': '8400236709'}],\n",
       " 'Eva Sharma': [{'address': 'Sagarpur', 'number': '7237858169'}],\n",
       " 'Anshu Sharma': [{'address': 'Raghunathpur', 'number': '7739927736'}],\n",
       " 'Rohit Sharma': [{'address': '', 'number': ''}],\n",
       " 'Matt Daemon': [{'address': 'Pune', 'number': '555010898'}]}"
      ]
     },
     "execution_count": 13,
     "metadata": {},
     "output_type": "execute_result"
    }
   ],
   "source": [
    "info_book()"
   ]
  },
  {
   "cell_type": "markdown",
   "id": "70219ce0",
   "metadata": {},
   "source": [
    "## 5. Matt Daemon has relocated to New York and his new number is 444333888. Change his number and address in the dictionary.\n"
   ]
  },
  {
   "cell_type": "code",
   "execution_count": 17,
   "id": "4e4f55f0",
   "metadata": {},
   "outputs": [],
   "source": [
    "book[\"Matt Daemon\"][0][\"address\"]='New York'"
   ]
  },
  {
   "cell_type": "code",
   "execution_count": 18,
   "id": "bb0ef954",
   "metadata": {},
   "outputs": [
    {
     "data": {
      "text/plain": [
       "{'Anivesh Sharma': [{'address': 'New Delhi', 'number': '6205561988'}],\n",
       " 'Alex Sharma': [{'address': 'Ballia', 'number': '8400236709'}],\n",
       " 'Eva Sharma': [{'address': 'Sagarpur', 'number': '7237858169'}],\n",
       " 'Anshu Sharma': [{'address': 'Raghunathpur', 'number': '7739927736'}],\n",
       " 'Rohit Sharma': [{'address': '', 'number': ''}],\n",
       " 'Matt Daemon': [{'address': 'New York', 'number': '555010898'}]}"
      ]
     },
     "execution_count": 18,
     "metadata": {},
     "output_type": "execute_result"
    }
   ],
   "source": [
    "book"
   ]
  },
  {
   "cell_type": "markdown",
   "id": "b769b4a0-7a10-4ef0-9132-e168b05c11fd",
   "metadata": {},
   "source": [
    "6. Given below is another information stored in dictionary made by your colleague. Add/Merge these\n",
    "values to you existing book dictionary.\n",
    "\n",
    "\n",
    "{'Jon Snow': [{'address': 'Sydney', 'number': '500600700'}],\n",
    "'Thomas Shelby': [{'address': 'Birmingham', 'number': '888000111'}],\n",
    "'Alex Botez': [{'address': 'California', 'number': '464555202'}],\n",
    "'Vidit Gujarati': [{'address': 'Mumbai', 'number': '7711155530'}],\n",
    "'Manasi Joshi': [{'address': 'Delhi', 'number': '8000500023'}]}/"
   ]
  },
  {
   "cell_type": "code",
   "execution_count": 19,
   "id": "fcb59d7d-46a4-4fda-9c96-45960a514570",
   "metadata": {},
   "outputs": [],
   "source": [
    "new_info = {'Jon Snow': [{'address': 'Sydney', 'number': '500600700'}],\n",
    "'Thomas Shelby': [{'address': 'Birmingham', 'number': '888000111'}],\n",
    "'Alex Botez': [{'address': 'California', 'number': '464555202'}],\n",
    "'Vidit Gujarati': [{'address': 'Mumbai', 'number': '7711155530'}],\n",
    "'Manasi Joshi': [{'address': 'Delhi', 'number': '8000500023'}]}"
   ]
  },
  {
   "cell_type": "code",
   "execution_count": 20,
   "id": "6c9bdf32-c95b-405f-ba56-654ca813520e",
   "metadata": {},
   "outputs": [],
   "source": [
    "book.update(new_info)"
   ]
  },
  {
   "cell_type": "code",
   "execution_count": 21,
   "id": "a9cb04e6",
   "metadata": {},
   "outputs": [
    {
     "data": {
      "text/plain": [
       "{'Anivesh Sharma': [{'address': 'New Delhi', 'number': '6205561988'}],\n",
       " 'Alex Sharma': [{'address': 'Ballia', 'number': '8400236709'}],\n",
       " 'Eva Sharma': [{'address': 'Sagarpur', 'number': '7237858169'}],\n",
       " 'Anshu Sharma': [{'address': 'Raghunathpur', 'number': '7739927736'}],\n",
       " 'Rohit Sharma': [{'address': '', 'number': ''}],\n",
       " 'Matt Daemon': [{'address': 'New York', 'number': '555010898'}],\n",
       " 'Jon Snow': [{'address': 'Sydney', 'number': '500600700'}],\n",
       " 'Thomas Shelby': [{'address': 'Birmingham', 'number': '888000111'}],\n",
       " 'Alex Botez': [{'address': 'California', 'number': '464555202'}],\n",
       " 'Vidit Gujarati': [{'address': 'Mumbai', 'number': '7711155530'}],\n",
       " 'Manasi Joshi': [{'address': 'Delhi', 'number': '8000500023'}]}"
      ]
     },
     "execution_count": 21,
     "metadata": {},
     "output_type": "execute_result"
    }
   ],
   "source": [
    "book"
   ]
  },
  {
   "cell_type": "markdown",
   "id": "dbfc852e-17a4-4417-a96f-7881dd448d1b",
   "metadata": {},
   "source": [
    "7. Jon Snow has ended membership from your organization. Remove his entry and details from your dictionary"
   ]
  },
  {
   "cell_type": "code",
   "execution_count": 22,
   "id": "aaef18ee-5ac9-45ff-9ba9-221847324957",
   "metadata": {},
   "outputs": [
    {
     "data": {
      "text/plain": [
       "[{'address': 'Sydney', 'number': '500600700'}]"
      ]
     },
     "execution_count": 22,
     "metadata": {},
     "output_type": "execute_result"
    }
   ],
   "source": [
    "book.pop(\"Jon Snow\")"
   ]
  },
  {
   "cell_type": "code",
   "execution_count": 23,
   "id": "38cc4b78-d46c-4a2c-b703-3069f10c306f",
   "metadata": {},
   "outputs": [
    {
     "data": {
      "text/plain": [
       "{'Anivesh Sharma': [{'address': 'New Delhi', 'number': '6205561988'}],\n",
       " 'Alex Sharma': [{'address': 'Ballia', 'number': '8400236709'}],\n",
       " 'Eva Sharma': [{'address': 'Sagarpur', 'number': '7237858169'}],\n",
       " 'Anshu Sharma': [{'address': 'Raghunathpur', 'number': '7739927736'}],\n",
       " 'Rohit Sharma': [{'address': '', 'number': ''}],\n",
       " 'Matt Daemon': [{'address': 'New York', 'number': '555010898'}],\n",
       " 'Thomas Shelby': [{'address': 'Birmingham', 'number': '888000111'}],\n",
       " 'Alex Botez': [{'address': 'California', 'number': '464555202'}],\n",
       " 'Vidit Gujarati': [{'address': 'Mumbai', 'number': '7711155530'}],\n",
       " 'Manasi Joshi': [{'address': 'Delhi', 'number': '8000500023'}]}"
      ]
     },
     "execution_count": 23,
     "metadata": {},
     "output_type": "execute_result"
    }
   ],
   "source": [
    "book"
   ]
  },
  {
   "cell_type": "markdown",
   "id": "868cf181-5677-442d-99ca-93373fda4139",
   "metadata": {},
   "source": [
    "8. Check/Print how many entries you have in your dictionary"
   ]
  },
  {
   "cell_type": "code",
   "execution_count": 26,
   "id": "e2d03a40-cbe1-40f8-8633-49d4f3290222",
   "metadata": {},
   "outputs": [
    {
     "name": "stdout",
     "output_type": "stream",
     "text": [
      "Their are 10 entries in the dictionary\n"
     ]
    }
   ],
   "source": [
    "print(f\"Their are {len(book)} entries in the dictionary\")"
   ]
  },
  {
   "cell_type": "code",
   "execution_count": null,
   "id": "558bd42b",
   "metadata": {},
   "outputs": [],
   "source": []
  }
 ],
 "metadata": {
  "kernelspec": {
   "display_name": "Python 3 (ipykernel)",
   "language": "python",
   "name": "python3"
  },
  "language_info": {
   "codemirror_mode": {
    "name": "ipython",
    "version": 3
   },
   "file_extension": ".py",
   "mimetype": "text/x-python",
   "name": "python",
   "nbconvert_exporter": "python",
   "pygments_lexer": "ipython3",
   "version": "3.12.4"
  }
 },
 "nbformat": 4,
 "nbformat_minor": 5
}

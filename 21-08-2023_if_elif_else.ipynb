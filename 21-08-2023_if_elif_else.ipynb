{
 "cells": [
  {
   "cell_type": "markdown",
   "id": "3134c44b",
   "metadata": {},
   "source": [
    "#  Question 1: Checking if a number is positive, negative, or zero"
   ]
  },
  {
   "cell_type": "code",
   "execution_count": 6,
   "id": "64c1760c",
   "metadata": {},
   "outputs": [
    {
     "name": "stdout",
     "output_type": "stream",
     "text": [
      "Enter your number:-2\n",
      "The number is Negative\n"
     ]
    }
   ],
   "source": [
    "num=int(input(\"Enter your number:\"))\n",
    "\n",
    "if num>0:\n",
    "    print(\"The number is Positive\")\n",
    "elif num==0:\n",
    "    print(\"The number is Zero\")\n",
    "else:\n",
    "    print(\"The number is Negative\")"
   ]
  },
  {
   "cell_type": "markdown",
   "id": "571a37b0",
   "metadata": {},
   "source": [
    "# Question 2: Checking if a year is a leap year"
   ]
  },
  {
   "cell_type": "code",
   "execution_count": 25,
   "id": "0b8f4643",
   "metadata": {},
   "outputs": [
    {
     "name": "stdout",
     "output_type": "stream",
     "text": [
      "Enter the year: 2024\n",
      "The year is leap Year\n"
     ]
    }
   ],
   "source": [
    "year=int(input(\"Enter the year: \"))\n",
    "if year%4==0:\n",
    "    print('The year is leap Year')\n",
    "else:\n",
    "    print(\"The year is not a leap Year\")"
   ]
  },
  {
   "cell_type": "markdown",
   "id": "08c1ed1b",
   "metadata": {},
   "source": [
    "# Question 3: Determining the largest of three numbers\n"
   ]
  },
  {
   "cell_type": "code",
   "execution_count": 9,
   "id": "6d2e3cae",
   "metadata": {},
   "outputs": [
    {
     "name": "stdout",
     "output_type": "stream",
     "text": [
      "Enter the First Number:78\n",
      "Enter the Second Number:99\n",
      "Enter the Third Number:56\n",
      "The Highest Number is Num2: 99\n"
     ]
    }
   ],
   "source": [
    "num1=int(input(\"Enter the First Number:\"))\n",
    "num2=int(input(\"Enter the Second Number:\"))\n",
    "num3=int(input(\"Enter the Third Number:\"))\n",
    "\n",
    "if num1>num2 and num1>num3:\n",
    "    print(f\"The Highest Number is Num1: {num1}\")\n",
    "elif num2>num3 and num2>num1:\n",
    "    print(f\"The Highest Number is Num2: {num2}\")\n",
    "else:\n",
    "    print(f\"The Highest Number is Num3: {num3}\")"
   ]
  },
  {
   "cell_type": "markdown",
   "id": "fb9bd733",
   "metadata": {},
   "source": [
    "# Question 4: Checking eligibility for voting"
   ]
  },
  {
   "cell_type": "code",
   "execution_count": 12,
   "id": "b9142271",
   "metadata": {},
   "outputs": [
    {
     "name": "stdout",
     "output_type": "stream",
     "text": [
      "Enter your Age: 78\n",
      "You are Eligible to give Vote\n"
     ]
    }
   ],
   "source": [
    "voting_Eligibility=int(input(\"Enter your Age: \"))\n",
    "\n",
    "if voting_Eligibility>=18:\n",
    "    print(\"You are Eligible to give Vote\")\n",
    "else:\n",
    "    print(\"You are not Eligible to give Vote\")"
   ]
  },
  {
   "cell_type": "markdown",
   "id": "c277f81f",
   "metadata": {},
   "source": [
    "# Question 5: Triangle Type \n",
    "Write a program that takes the lengths of three sides of a triangle as input and determines whether it's an equilateral, isosceles, or scalene triangle."
   ]
  },
  {
   "cell_type": "code",
   "execution_count": 15,
   "id": "b08fc740",
   "metadata": {},
   "outputs": [
    {
     "name": "stdout",
     "output_type": "stream",
     "text": [
      "Enter the length of First Side:14\n",
      "Enter the length of Second Side:15\n",
      "Enter the length of Third Side:17\n",
      "The triangle is Scalene Triangle\n"
     ]
    }
   ],
   "source": [
    "x=int(input(\"Enter the length of First Side:\"))\n",
    "y=int(input(\"Enter the length of Second Side:\"))\n",
    "z=int(input(\"Enter the length of Third Side:\"))\n",
    "\n",
    "if x==y and y==z:\n",
    "    print(\"The triangle is Equilateral Triangle\")\n",
    "elif x==y or x==z or y==z:\n",
    "    print(\"The triangle is Isosceles Triangle\")\n",
    "else:\n",
    "    print(\"The triangle is Scalene Triangle\")"
   ]
  },
  {
   "cell_type": "code",
   "execution_count": null,
   "id": "91398dcc",
   "metadata": {},
   "outputs": [],
   "source": []
  },
  {
   "cell_type": "markdown",
   "id": "e5ea4786",
   "metadata": {},
   "source": [
    "# Question 6: Temperature Conversion\n",
    "Write a program that converts a temperature from Celsius to Fahrenheit or vice versa based on user input."
   ]
  },
  {
   "cell_type": "code",
   "execution_count": 30,
   "id": "d42c558c",
   "metadata": {},
   "outputs": [
    {
     "name": "stdout",
     "output_type": "stream",
     "text": [
      "Please type c if you give temp in celsius OR f for Fahrenheit: c\n",
      "Please Enter the Temperature: -20\n",
      "The temperature is -4.0 F\n"
     ]
    }
   ],
   "source": [
    "f_c=input(\"Please type c if you give temp in celsius OR f for Fahrenheit: \")\n",
    "temp=int(input(\"Please Enter the Temperature: \"))\n",
    "if f_c==\"c\":\n",
    "    fahrenheit=(temp * 9/5) + 32\n",
    "    print(f\"The temperature is {fahrenheit} F\")\n",
    "elif f_c==\"f\":\n",
    "    celsius = (temp - 32) * 5/9\n",
    "    print(f\"The temperature is {celsius} C\")\n",
    "else:\n",
    "    print(\"Please Enter in C and F only\")"
   ]
  },
  {
   "cell_type": "code",
   "execution_count": null,
   "id": "c03d1c38",
   "metadata": {},
   "outputs": [],
   "source": []
  },
  {
   "cell_type": "markdown",
   "id": "3161cc32",
   "metadata": {},
   "source": [
    "# Question 7: Grade Calculation\n",
    "Write a program that takes a student's score as input and outputs their corresponding grade."
   ]
  },
  {
   "cell_type": "code",
   "execution_count": 10,
   "id": "3005f813",
   "metadata": {},
   "outputs": [
    {
     "name": "stdout",
     "output_type": "stream",
     "text": [
      "Enter your Obtain Marks: 800\n",
      "Enter your Total Marks: 500\n",
      "Not Valid\n"
     ]
    }
   ],
   "source": [
    "marks=int(input(\"Enter your Obtain Marks: \"))\n",
    "t_marks=int(input(\"Enter your Total Marks: \"))\n",
    "p=(marks*100)/t_marks\n",
    "if p>100:\n",
    "    print('Not Valid')\n",
    "elif p>=95:\n",
    "    print('A+ grade')\n",
    "elif p>=90:\n",
    "    print('A grade')\n",
    "elif p>=85:\n",
    "    print('B+ grade')\n",
    "elif p>=80:\n",
    "    print('B grade')\n",
    "elif p>=75:\n",
    "    print('C+ grade')\n",
    "elif p>=70:\n",
    "    print('C grade')\n",
    "elif p>=65:\n",
    "    print('D+ grade')\n",
    "elif p>=60:\n",
    "    print('D grade')\n",
    "elif p>=55:\n",
    "    print('E+ grade')\n",
    "elif p>=50:\n",
    "    print('E grade')\n",
    "elif p>=45:\n",
    "    print('F+ grade')\n",
    "elif p>=40:\n",
    "    print('F grade')\n",
    "elif p>=35:\n",
    "    print('G+ grade')\n",
    "else:\n",
    "    print('Fail')"
   ]
  },
  {
   "cell_type": "code",
   "execution_count": null,
   "id": "041ca123",
   "metadata": {},
   "outputs": [],
   "source": []
  },
  {
   "cell_type": "markdown",
   "id": "36a6600e",
   "metadata": {},
   "source": [
    "# Question 8: Login System\n",
    "Create a simple login system where the user needs to input a username and password. \n",
    "Allow access if both the username and password match predefined values"
   ]
  },
  {
   "cell_type": "code",
   "execution_count": 3,
   "id": "c71b22d2",
   "metadata": {},
   "outputs": [
    {
     "name": "stdout",
     "output_type": "stream",
     "text": [
      "Enter your Username: 145\n",
      "Enter your Password:14\n",
      "Incorrect Password: Secret\n",
      "Password is Correct\n"
     ]
    }
   ],
   "source": [
    "username=input(\"Enter your Username: \")\n",
    "password=\"Secret\"\n",
    "passw=input(\"Enter your Password:\")\n",
    "while passw!=password:\n",
    "    passw=input(\"Incorrect Password: \")\n",
    "print(\"Password is Correct\")"
   ]
  },
  {
   "cell_type": "code",
   "execution_count": null,
   "id": "144837e2",
   "metadata": {},
   "outputs": [],
   "source": []
  },
  {
   "cell_type": "markdown",
   "id": "ffe8fdba",
   "metadata": {},
   "source": [
    "# Question 9: Divisibility Check\n",
    "Write a program that checks if a number is divisible by both 3 and 5, only by 3, only by 5, or not by either."
   ]
  },
  {
   "cell_type": "code",
   "execution_count": 26,
   "id": "d50f5b3e",
   "metadata": {},
   "outputs": [
    {
     "name": "stdout",
     "output_type": "stream",
     "text": [
      "Enter your Number: 15\n",
      "The number is Divisible by both 3 and 5\n"
     ]
    }
   ],
   "source": [
    "number=int(input(\"Enter your Number: \"))\n",
    "b=number%3\n",
    "c=number%5\n",
    "\n",
    "if b==c:\n",
    "    print(\"The number is Divisible by both 3 and 5\")\n",
    "elif b==0:\n",
    "    print(\"The number is Divisible by 3\")\n",
    "elif c==0:\n",
    "    print(\"The number is divisible by 5\")\n",
    "else:\n",
    "    print(\"The number is not Divisible by 3 and 5\")"
   ]
  },
  {
   "cell_type": "code",
   "execution_count": null,
   "id": "f4ae5164",
   "metadata": {},
   "outputs": [],
   "source": []
  }
 ],
 "metadata": {
  "kernelspec": {
   "display_name": "Python 3 (ipykernel)",
   "language": "python",
   "name": "python3"
  },
  "language_info": {
   "codemirror_mode": {
    "name": "ipython",
    "version": 3
   },
   "file_extension": ".py",
   "mimetype": "text/x-python",
   "name": "python",
   "nbconvert_exporter": "python",
   "pygments_lexer": "ipython3",
   "version": "3.11.4"
  }
 },
 "nbformat": 4,
 "nbformat_minor": 5
}
